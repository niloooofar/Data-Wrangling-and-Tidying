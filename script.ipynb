{
 "cells": [
  {
   "cell_type": "markdown",
   "metadata": {},
   "source": [
    "# Cleaning US Census Data"
   ]
  },
  {
   "cell_type": "markdown",
   "metadata": {},
   "source": [
    "You just got hired as a Data Analyst at the Census Bureau, which collects census data and creates interesting visualizations and insights from it.\n",
    "\n",
    "The person who had your job before you left you all the data they had for the most recent census. It is in multiple csv files. They didn’t use pandas, they would just look through these csv files manually whenever they wanted to find something. Sometimes they would copy and paste certain numbers into Excel to make charts.\n",
    "\n",
    "The thought of it makes you shiver. This is not scalable or repeatable.\n",
    "\n",
    "Your boss wants you to make some scatterplots and histograms by the end of the day. Can you get this data into pandas and into reasonable shape so that you can make these histograms?\n"
   ]
  },
  {
   "cell_type": "markdown",
   "metadata": {},
   "source": [
    "### Inspect the Data!"
   ]
  },
  {
   "cell_type": "markdown",
   "metadata": {},
   "source": [
    "<b>1.</b>The first visualization your boss wants you to make is a scatterplot that shows average income in a state vs proportion of women in that state.\n",
    "\n",
    "Open some of the census csv files in the navigator. How are they named? What kind of information do they hold? Will they help us make this graph?\n"
   ]
  },
  {
   "cell_type": "markdown",
   "metadata": {},
   "source": [
    "<b>2.</b> It will be easier to inspect this data once we have it in a DataFrame. You can’t even call .head() on these csvs! How are you supposed to read them?\n",
    "\n",
    "Using glob, loop through the census files available and load them into DataFrames. Then, concatenate all of those DataFrames together into one DataFrame, called something like us_census.\n",
    "\n",
    "\n",
    "<b>HINT:</b>\n",
    "\n",
    "------------------------------------------------------------------\n",
    "With glob, we can take all of the files with the same naming structure and combine them:\n",
    "\n",
    "import glob\n",
    "\n",
    "files = glob.glob(\"states*.csv\")\n",
    "\n",
    "df_list = []\n",
    "\n",
    "for filename in files:\n",
    "\n",
    "    data = pd.read_csv(filename)\n",
    "    \n",
    "    df_list.append(data)\n",
    "    \n",
    "  \n",
    "\n",
    "Pandas can concatenate this list of DataFrames together:\n",
    "\n",
    "df = pd.concat(df_list)\n"
   ]
  },
  {
   "cell_type": "code",
   "execution_count": 113,
   "metadata": {},
   "outputs": [],
   "source": [
    "import glob\n",
    "import pandas as pd\n",
    "import numpy as np\n",
    "import matplotlib.pyplot as plt\n",
    "\n",
    "files = glob.glob(\"states*.csv\")\n",
    "df_list = []\n",
    "\n",
    "for filename in files:\n",
    "    df = pd.read_csv(filename)\n",
    "    df_list.append(df)\n",
    "    \n",
    "us_census = pd.concat(df_list)\n"
   ]
  },
  {
   "cell_type": "markdown",
   "metadata": {},
   "source": [
    "<b>3.</b> Look at the .columns and the .dtypes of the us_census DataFrame. Are those datatypes going to hinder you as you try to make histograms?\n"
   ]
  },
  {
   "cell_type": "code",
   "execution_count": 114,
   "metadata": {},
   "outputs": [
    {
     "name": "stdout",
     "output_type": "stream",
     "text": [
      "Index(['Unnamed: 0', 'State', 'TotalPop', 'Hispanic', 'White', 'Black',\n",
      "       'Native', 'Asian', 'Pacific', 'Income', 'GenderPop'],\n",
      "      dtype='object')\n",
      "Unnamed: 0     int64\n",
      "State         object\n",
      "TotalPop       int64\n",
      "Hispanic      object\n",
      "White         object\n",
      "Black         object\n",
      "Native        object\n",
      "Asian         object\n",
      "Pacific       object\n",
      "Income        object\n",
      "GenderPop     object\n",
      "dtype: object\n"
     ]
    }
   ],
   "source": [
    "print(us_census.columns)\n",
    "print(us_census.dtypes)"
   ]
  },
  {
   "cell_type": "markdown",
   "metadata": {},
   "source": [
    "<b>4.</b> Look at the .head() of the DataFrame so that you can understand why some of these dtypes are objects instead of integers or floats.\n",
    "\n",
    "Start to make a plan for how to convert these columns into the right types for manipulation.\n"
   ]
  },
  {
   "cell_type": "code",
   "execution_count": 115,
   "metadata": {},
   "outputs": [
    {
     "data": {
      "text/html": [
       "<div>\n",
       "<style scoped>\n",
       "    .dataframe tbody tr th:only-of-type {\n",
       "        vertical-align: middle;\n",
       "    }\n",
       "\n",
       "    .dataframe tbody tr th {\n",
       "        vertical-align: top;\n",
       "    }\n",
       "\n",
       "    .dataframe thead th {\n",
       "        text-align: right;\n",
       "    }\n",
       "</style>\n",
       "<table border=\"1\" class=\"dataframe\">\n",
       "  <thead>\n",
       "    <tr style=\"text-align: right;\">\n",
       "      <th></th>\n",
       "      <th>Unnamed: 0</th>\n",
       "      <th>State</th>\n",
       "      <th>TotalPop</th>\n",
       "      <th>Hispanic</th>\n",
       "      <th>White</th>\n",
       "      <th>Black</th>\n",
       "      <th>Native</th>\n",
       "      <th>Asian</th>\n",
       "      <th>Pacific</th>\n",
       "      <th>Income</th>\n",
       "      <th>GenderPop</th>\n",
       "    </tr>\n",
       "  </thead>\n",
       "  <tbody>\n",
       "    <tr>\n",
       "      <th>0</th>\n",
       "      <td>0</td>\n",
       "      <td>Alabama</td>\n",
       "      <td>4830620</td>\n",
       "      <td>3.7516156462584975%</td>\n",
       "      <td>61.878656462585%</td>\n",
       "      <td>31.25297619047618%</td>\n",
       "      <td>0.4532312925170065%</td>\n",
       "      <td>1.0502551020408146%</td>\n",
       "      <td>0.03435374149659865%</td>\n",
       "      <td>$43296.35860306644</td>\n",
       "      <td>2341093M_2489527F</td>\n",
       "    </tr>\n",
       "    <tr>\n",
       "      <th>1</th>\n",
       "      <td>1</td>\n",
       "      <td>Alaska</td>\n",
       "      <td>733375</td>\n",
       "      <td>5.909580838323351%</td>\n",
       "      <td>60.910179640718574%</td>\n",
       "      <td>2.8485029940119775%</td>\n",
       "      <td>16.39101796407186%</td>\n",
       "      <td>5.450299401197604%</td>\n",
       "      <td>1.0586826347305378%</td>\n",
       "      <td>$70354.74390243902</td>\n",
       "      <td>384160M_349215F</td>\n",
       "    </tr>\n",
       "    <tr>\n",
       "      <th>2</th>\n",
       "      <td>2</td>\n",
       "      <td>Arizona</td>\n",
       "      <td>6641928</td>\n",
       "      <td>29.565921052631502%</td>\n",
       "      <td>57.120000000000026%</td>\n",
       "      <td>3.8509868421052658%</td>\n",
       "      <td>4.35506578947368%</td>\n",
       "      <td>2.876578947368419%</td>\n",
       "      <td>0.16763157894736833%</td>\n",
       "      <td>$54207.82095490716</td>\n",
       "      <td>3299088M_3342840F</td>\n",
       "    </tr>\n",
       "    <tr>\n",
       "      <th>3</th>\n",
       "      <td>3</td>\n",
       "      <td>Arkansas</td>\n",
       "      <td>2958208</td>\n",
       "      <td>6.215474452554738%</td>\n",
       "      <td>71.13781021897813%</td>\n",
       "      <td>18.968759124087573%</td>\n",
       "      <td>0.5229197080291965%</td>\n",
       "      <td>1.1423357664233578%</td>\n",
       "      <td>0.14686131386861315%</td>\n",
       "      <td>$41935.63396778917</td>\n",
       "      <td>1451913M_1506295F</td>\n",
       "    </tr>\n",
       "    <tr>\n",
       "      <th>4</th>\n",
       "      <td>4</td>\n",
       "      <td>California</td>\n",
       "      <td>38421464</td>\n",
       "      <td>37.291874687968054%</td>\n",
       "      <td>40.21578881677474%</td>\n",
       "      <td>5.677396405391911%</td>\n",
       "      <td>0.40529206190713685%</td>\n",
       "      <td>13.052234148776776%</td>\n",
       "      <td>0.35141038442336353%</td>\n",
       "      <td>$67264.78230266465</td>\n",
       "      <td>19087135M_19334329F</td>\n",
       "    </tr>\n",
       "  </tbody>\n",
       "</table>\n",
       "</div>"
      ],
      "text/plain": [
       "   Unnamed: 0       State  TotalPop             Hispanic                White  \\\n",
       "0           0     Alabama   4830620  3.7516156462584975%     61.878656462585%   \n",
       "1           1      Alaska    733375   5.909580838323351%  60.910179640718574%   \n",
       "2           2     Arizona   6641928  29.565921052631502%  57.120000000000026%   \n",
       "3           3    Arkansas   2958208   6.215474452554738%   71.13781021897813%   \n",
       "4           4  California  38421464  37.291874687968054%   40.21578881677474%   \n",
       "\n",
       "                 Black                Native                Asian  \\\n",
       "0   31.25297619047618%   0.4532312925170065%  1.0502551020408146%   \n",
       "1  2.8485029940119775%    16.39101796407186%   5.450299401197604%   \n",
       "2  3.8509868421052658%     4.35506578947368%   2.876578947368419%   \n",
       "3  18.968759124087573%   0.5229197080291965%  1.1423357664233578%   \n",
       "4   5.677396405391911%  0.40529206190713685%  13.052234148776776%   \n",
       "\n",
       "                Pacific              Income            GenderPop  \n",
       "0  0.03435374149659865%  $43296.35860306644    2341093M_2489527F  \n",
       "1   1.0586826347305378%  $70354.74390243902      384160M_349215F  \n",
       "2  0.16763157894736833%  $54207.82095490716    3299088M_3342840F  \n",
       "3  0.14686131386861315%  $41935.63396778917    1451913M_1506295F  \n",
       "4  0.35141038442336353%  $67264.78230266465  19087135M_19334329F  "
      ]
     },
     "execution_count": 115,
     "metadata": {},
     "output_type": "execute_result"
    }
   ],
   "source": [
    "us_census.head()"
   ]
  },
  {
   "cell_type": "markdown",
   "metadata": {},
   "source": [
    "<br/><br/>\n",
    "### Regex to the Rescue"
   ]
  },
  {
   "cell_type": "markdown",
   "metadata": {},
   "source": [
    "<b>5.</b> Use regex to turn the Income column into a format that is ready for conversion into a numerical type.\n"
   ]
  },
  {
   "cell_type": "code",
   "execution_count": 116,
   "metadata": {},
   "outputs": [],
   "source": [
    "us_census.Income = us_census.Income.str.replace(\"\\$\", \"\")\n",
    "\n",
    "us_census.Income = pd.to_numeric(us_census.Income)\n"
   ]
  },
  {
   "cell_type": "markdown",
   "metadata": {},
   "source": [
    "<br/><br/>\n",
    "<b>6.</b> Look at the GenderPop column. We are going to want to separate this into two columns, the Men column, and the Women column.\n",
    "\n",
    "Split the column into those two new columns using str.split and separating out those results.\n"
   ]
  },
  {
   "cell_type": "code",
   "execution_count": 117,
   "metadata": {},
   "outputs": [],
   "source": [
    "us_census[\"GenderPop_split\"] = us_census.GenderPop.str.split(\"_\")"
   ]
  },
  {
   "cell_type": "markdown",
   "metadata": {},
   "source": [
    "<br/><br/>\n",
    "<b>7.</b> Convert both of the columns into numerical datatypes.\n",
    "\n",
    "There is still an M or an F character in each entry! We should remove those before we convert.\n"
   ]
  },
  {
   "cell_type": "code",
   "execution_count": 118,
   "metadata": {},
   "outputs": [],
   "source": [
    "us_census[\"Men\"] = us_census.GenderPop_split.str.get(0)\n",
    "us_census[\"Men\"] = us_census[\"Men\"].replace(\"M\", \"\", regex = True)\n",
    "us_census.Men = pd.to_numeric(us_census.Men)\n",
    "\n",
    "us_census[\"Women\"] = us_census.GenderPop_split.str.get(1)\n",
    "us_census[\"Women\"] = us_census[\"Women\"].replace(\"F\", \"\", regex = True)\n",
    "us_census.Women = pd.to_numeric(us_census.Women)"
   ]
  },
  {
   "cell_type": "markdown",
   "metadata": {},
   "source": [
    "<br/><br/>\n",
    "<b>8.</b> Now you should have the columns you need to make the graph and make sure your boss does not slam a ruler angrily on your desk because you’ve wasted your whole day cleaning your data with no results to show!\n",
    "\n",
    "Use matplotlib to make a scatterplot!\n",
    "\n",
    "plt.scatter(the_women_column, the_income_column) \n",
    "\n",
    "Remember to call plt.show() to see the graph!\n"
   ]
  },
  {
   "cell_type": "code",
   "execution_count": 119,
   "metadata": {},
   "outputs": [
    {
     "data": {
      "image/png": "[encoded data removed]",
      "text/plain": [
       "<Figure size 432x288 with 1 Axes>"
      ]
     },
     "metadata": {
      "needs_background": "light"
     },
     "output_type": "display_data"
    }
   ],
   "source": [
    "plt.scatter(us_census.Women, us_census.Income)\n",
    "plt.show()"
   ]
  },
  {
   "cell_type": "markdown",
   "metadata": {},
   "source": [
    "<br/><br/>\n",
    "<b>9.</b> Did you get an error? These monstrous csv files probably have nan values in them! Print out your column with the number of women per state to see.\n",
    "\n",
    "We can fill in those nans by using pandas’ .fillna() function.\n",
    "\n",
    "You have the TotalPop per state, and you have the Men per state. As an estimate for the nan values in the Women column, you could use the TotalPop of that state minus the Men for that state.\n",
    "\n",
    "Print out the Women column after filling the nan values to see if it worked!\n"
   ]
  },
  {
   "cell_type": "code",
   "execution_count": 120,
   "metadata": {},
   "outputs": [
    {
     "data": {
      "text/plain": [
       "Unnamed: 0         0\n",
       "State              0\n",
       "TotalPop           0\n",
       "Hispanic           0\n",
       "White              0\n",
       "Black              0\n",
       "Native             0\n",
       "Asian              0\n",
       "Pacific            5\n",
       "Income             0\n",
       "GenderPop          0\n",
       "GenderPop_split    0\n",
       "Men                0\n",
       "Women              3\n",
       "dtype: int64"
      ]
     },
     "execution_count": 120,
     "metadata": {},
     "output_type": "execute_result"
    }
   ],
   "source": [
    "us_census.isnull().sum()"
   ]
  },
  {
   "cell_type": "code",
   "execution_count": 121,
   "metadata": {},
   "outputs": [
    {
     "data": {
      "text/plain": [
       "Unnamed: 0         0\n",
       "State              0\n",
       "TotalPop           0\n",
       "Hispanic           0\n",
       "White              0\n",
       "Black              0\n",
       "Native             0\n",
       "Asian              0\n",
       "Pacific            5\n",
       "Income             0\n",
       "GenderPop          0\n",
       "GenderPop_split    0\n",
       "Men                0\n",
       "Women              0\n",
       "dtype: int64"
      ]
     },
     "execution_count": 121,
     "metadata": {},
     "output_type": "execute_result"
    }
   ],
   "source": [
    "us_census = us_census.fillna(value = {\"Women\" : us_census[\"TotalPop\"] - us_census[\"Men\"]} )\n",
    "us_census.isnull().sum()"
   ]
  },
  {
   "cell_type": "markdown",
   "metadata": {},
   "source": [
    "<br/><br/>\n",
    "<b>10.</b> We forgot to check for duplicates! Use .duplicated() on your census DataFrame to see if we have duplicate rows in there.\n"
   ]
  },
  {
   "cell_type": "code",
   "execution_count": 122,
   "metadata": {},
   "outputs": [
    {
     "name": "stdout",
     "output_type": "stream",
     "text": [
      "0    False\n",
      "1    False\n",
      "2    False\n",
      "3    False\n",
      "4    False\n",
      "5    False\n",
      "0     True\n",
      "1    False\n",
      "2    False\n",
      "3    False\n",
      "4    False\n",
      "5    False\n",
      "0     True\n",
      "1    False\n",
      "2    False\n",
      "3    False\n",
      "4    False\n",
      "5    False\n",
      "0     True\n",
      "1    False\n",
      "2    False\n",
      "3    False\n",
      "4    False\n",
      "5    False\n",
      "0     True\n",
      "1    False\n",
      "2    False\n",
      "3    False\n",
      "4    False\n",
      "5    False\n",
      "0     True\n",
      "1    False\n",
      "2    False\n",
      "3    False\n",
      "4    False\n",
      "5    False\n",
      "0     True\n",
      "1    False\n",
      "2    False\n",
      "3    False\n",
      "4    False\n",
      "5    False\n",
      "0     True\n",
      "1    False\n",
      "2    False\n",
      "3    False\n",
      "4    False\n",
      "5    False\n",
      "0     True\n",
      "1    False\n",
      "2    False\n",
      "3    False\n",
      "4    False\n",
      "5    False\n",
      "0     True\n",
      "1    False\n",
      "2    False\n",
      "3    False\n",
      "4    False\n",
      "5    False\n",
      "dtype: bool\n"
     ]
    }
   ],
   "source": [
    "print(us_census.duplicated(subset = [\"State\", \"TotalPop\"]))\n"
   ]
  },
  {
   "cell_type": "markdown",
   "metadata": {},
   "source": [
    "<br/><br/>\n",
    "<b>11.</b> Drop those duplicates using the .drop_duplicates() function.\n"
   ]
  },
  {
   "cell_type": "code",
   "execution_count": 123,
   "metadata": {},
   "outputs": [
    {
     "name": "stdout",
     "output_type": "stream",
     "text": [
      "   Unnamed: 0                 State  TotalPop             Hispanic  \\\n",
      "0           0               Alabama   4830620  3.7516156462584975%   \n",
      "1           1                Alaska    733375   5.909580838323351%   \n",
      "2           2               Arizona   6641928  29.565921052631502%   \n",
      "3           3              Arkansas   2958208   6.215474452554738%   \n",
      "4           4            California  38421464  37.291874687968054%   \n",
      "5           5              Colorado   5278906   20.78438003220608%   \n",
      "1           1           Connecticut   3593222  15.604830917874388%   \n",
      "2           2              Delaware    926454    8.82476635514019%   \n",
      "3           3  District of Columbia    647484   9.165921787709499%   \n",
      "4           4               Florida  19645772    21.3385426653884%   \n",
      "5           5               Georgia  10006693   8.418242207460397%   \n",
      "1           1                Hawaii   1406299   9.186708860759486%   \n",
      "2           2                 Idaho   1616547  11.505369127516781%   \n",
      "3           3              Illinois  12873761  15.601733547351516%   \n",
      "4           4               Indiana   6568645   6.536744186046501%   \n",
      "5           5                  Iowa   3093526    5.30364520048603%   \n",
      "1           1                Kansas   2892987  11.644342105263148%   \n",
      "2           2              Kentucky   4397353   3.222993688007212%   \n",
      "3           3             Louisiana   4625253   4.866489361702128%   \n",
      "4           4                 Maine   1329100  1.4319088319088318%   \n",
      "5           5              Maryland   5930538    8.47249820014399%   \n",
      "1           1         Massachusetts   6705586  11.461065573770476%   \n",
      "2           2              Michigan   9900571   4.634992732558134%   \n",
      "3           3             Minnesota   5419171   5.152923538230896%   \n",
      "4           4           Mississippi   2988081   2.842401215805473%   \n",
      "5           5              Missouri   6045448   4.037247838616718%   \n",
      "1           1               Montana   1014699  3.2688888888888896%   \n",
      "2           2              Nebraska   1869365   9.203759398496235%   \n",
      "3           3                Nevada   2798636  27.100883652430046%   \n",
      "4           4         New Hampshire   1324201  3.3219178082191796%   \n",
      "5           5            New Jersey   8904413   18.74950049950049%   \n",
      "1           1            New Mexico   2084117   45.28293172690762%   \n",
      "2           2              New York  19673174  17.241424747786684%   \n",
      "3           3        North Carolina   9845333   8.464762782128062%   \n",
      "4           4          North Dakota    721640   2.832682926829267%   \n",
      "5           5                  Ohio  11575977  3.6720843250595037%   \n",
      "1           1              Oklahoma   3849733    10.0799043062201%   \n",
      "2           2                Oregon   3939233  11.441212121212132%   \n",
      "3           3          Pennsylvania  12779559   6.128013741411624%   \n",
      "4           4           Puerto Rico   3583073   98.89357384441935%   \n",
      "5           5          Rhode Island   1053661  13.356666666666678%   \n",
      "1           1        South Carolina   4777576   5.056684981684991%   \n",
      "2           2          South Dakota    843190  3.2396396396396376%   \n",
      "3           3             Tennessee   6499615   4.720026972353339%   \n",
      "4           4                 Texas  26538614   38.04673809068304%   \n",
      "5           5                  Utah   2903379  13.468376068376063%   \n",
      "1           1               Vermont    626604  1.6092896174863391%   \n",
      "2           2              Virginia   8256630     8.0110164981373%   \n",
      "3           3            Washington   6985464  11.140968858131506%   \n",
      "4           4         West Virginia   1851420   1.290909090909089%   \n",
      "5           5             Wisconsin   5742117   6.683333333333334%   \n",
      "\n",
      "                 White                Black                  Native  \\\n",
      "0     61.878656462585%   31.25297619047618%     0.4532312925170065%   \n",
      "1  60.910179640718574%  2.8485029940119775%      16.39101796407186%   \n",
      "2  57.120000000000026%  3.8509868421052658%       4.35506578947368%   \n",
      "3   71.13781021897813%  18.968759124087573%     0.5229197080291965%   \n",
      "4   40.21578881677474%   5.677396405391911%    0.40529206190713685%   \n",
      "5   69.89557165861504%   3.546376811594201%     0.5738325281803548%   \n",
      "1    67.6770531400966%   10.34806763285027%    0.12620772946859898%   \n",
      "2   64.63271028037383%  20.743925233644834%    0.25981308411214965%   \n",
      "3  33.103910614525134%   51.77653631284915%    0.20055865921787713%   \n",
      "4   59.08374880153398%  15.165675934803444%     0.2104506232023015%   \n",
      "5   54.28630556974962%   32.08829841594277%    0.18758303525804798%   \n",
      "1  25.032278481012657%   2.052848101265823%     0.1449367088607596%   \n",
      "2    83.1362416107383%  0.5667785234899323%      1.468120805369128%   \n",
      "3   60.85980738362764%  17.108410914927717%    0.11842696629213499%   \n",
      "4   78.43189368770771%   11.18697674418606%     0.1940863787375415%   \n",
      "5   87.71968408262464%  3.2569866342648868%     0.2897934386391251%   \n",
      "1   75.95828947368425%     6.5678947368421%     0.7339473684210529%   \n",
      "2    85.2307484220019%   8.272317403065832%     0.1666366095581602%   \n",
      "3  54.978546099290796%   36.32624113475175%    0.48430851063829816%   \n",
      "4   93.70740740740736%  1.1344729344729356%     0.7883190883190888%   \n",
      "5     52.679049676026%    30.6777537796976%    0.20309575233981278%   \n",
      "1   73.04105191256845%    6.83312841530056%    0.12827868852459007%   \n",
      "2   72.38172238372084%  17.633103197674423%    0.48441133720930313%   \n",
      "3   81.42706146926535%    5.65982008995502%      1.069040479760119%   \n",
      "4   53.28632218844981%  41.491945288753804%     0.3899696048632216%   \n",
      "5     77.508069164265%  14.122118155619594%    0.36332853025936646%   \n",
      "1   86.41555555555554%  0.4292592592592591%     7.0607407407407425%   \n",
      "2   81.13947368421056%   4.956203007518794%     0.8644736842105263%   \n",
      "3   53.23932253313698%   7.739617083946994%     1.0871870397643593%   \n",
      "4   91.31917808219184%  1.2277397260273974%    0.14280821917808229%   \n",
      "5  56.488761238761285%  14.387862137862117%    0.11533466533466513%   \n",
      "1   40.69799196787147%  1.7550200803212852%      9.248594377510045%   \n",
      "2    56.4701050030883%  15.668046119003515%    0.32163887173152117%   \n",
      "3    64.5976508521419%    21.3951174573929%     1.0854905573468434%   \n",
      "4   87.44829268292683%  1.2843902439024397%      5.651219512195119%   \n",
      "5   75.90306018361096%  16.207276436586163%    0.16888813328799712%   \n",
      "1   66.05942583732046%   8.314736842105255%      6.716842105263157%   \n",
      "2   78.39551515151517%   1.730787878787877%     1.0002424242424257%   \n",
      "3   77.38385384134914%  11.633947532791995%    0.11926920674578385%   \n",
      "4  0.7736189402480265%  0.0925591882750846%  0.0028184892897406984%   \n",
      "5   74.32541666666665%    5.68291666666667%     0.3462500000000001%   \n",
      "1  62.888736263736185%   28.75091575091577%     0.2923992673992673%   \n",
      "2   82.50090090090092%  1.4238738738738752%      9.417567567567566%   \n",
      "3   73.49008766014822%  18.283816587997297%    0.22663519892110592%   \n",
      "4  44.687908934379145%   11.65004782858236%    0.26114405969007126%   \n",
      "5   79.40683760683764%  1.0179487179487194%     1.0813675213675222%   \n",
      "1   93.98306010928961%  0.9808743169398909%      0.301639344262295%   \n",
      "2  63.271048430015945%   20.17599787120807%    0.21245343267695582%   \n",
      "3   72.03840830449816%   3.384429065743947%     1.4107266435986163%   \n",
      "4   92.17623966942146%  3.6628099173553723%    0.15268595041322316%   \n",
      "5   79.86400862068966%   8.195186781609202%     0.9536637931034483%   \n",
      "\n",
      "                  Asian                 Pacific        Income  \\\n",
      "0   1.0502551020408146%    0.03435374149659865%  43296.358603   \n",
      "1    5.450299401197604%     1.0586826347305378%  70354.743902   \n",
      "2    2.876578947368419%    0.16763157894736833%  54207.820955   \n",
      "3   1.1423357664233578%    0.14686131386861315%  41935.633968   \n",
      "4   13.052234148776776%    0.35141038442336353%  67264.782303   \n",
      "5    2.661996779388082%                     NaN  64657.801787   \n",
      "1    4.021980676328502%   0.018599033816425123%  76146.560588   \n",
      "2   3.2686915887850483%                     NaN  61827.976636   \n",
      "3   3.3832402234636865%   0.029608938547486034%  75466.363636   \n",
      "4   2.2831735378715257%    0.05151006711409391%  50690.194987   \n",
      "5   3.0976494634644895%   0.046601941747572824%  50811.082051   \n",
      "1    36.59208860759495%      8.758860759493672%  73264.426282   \n",
      "2    1.135906040268457%     0.1271812080536914%  48017.315436   \n",
      "3    4.475377207062604%    0.02003210272873195%  59587.048875   \n",
      "4   1.5782724252491687%    0.03262458471760798%  48616.227848   \n",
      "5    1.699392466585662%   0.055164034021871235%  53017.753041   \n",
      "1    2.331052631578946%                     NaN  53885.612648   \n",
      "2   1.1298467087466182%   0.046438232642019836%  45285.802536   \n",
      "3    1.669060283687941%   0.039184397163120555%  44957.993761   \n",
      "4   0.9658119658119669%    0.01566951566951567%  49181.974359   \n",
      "5    5.325413966882652%    0.03628509719222463%  78765.400725   \n",
      "1    5.835655737704914%     0.0198087431693989%  72838.936726   \n",
      "2   2.4231104651162796%    0.01954941860465116%  51201.830037   \n",
      "3    4.156071964017996%   0.032908545727136446%  62820.833959   \n",
      "4   0.8764437689969605%   0.015045592705167175%  38909.919207   \n",
      "5   1.6244956772334296%    0.10165706051873193%  49763.987726   \n",
      "1   0.5703703703703705%    0.07222222222222222%  47645.682836   \n",
      "2   1.8590225563909788%    0.05714285714285715%  55916.469697   \n",
      "3    7.095729013254786%     0.5745213549337267%  55526.525074   \n",
      "4    2.191438356164382%   0.016095890410958904%  68728.859589   \n",
      "5    8.159990009990018%   0.031318681318681325%  76581.083417   \n",
      "1     1.23433734939759%    0.04277108433734938%  47329.967871   \n",
      "2   7.8971587399629355%   0.023450689726168417%  64290.749113   \n",
      "3    2.317457392906495%    0.05232611699677568%  49937.464137   \n",
      "4   0.9619512195121945%                     NaN  58188.112195   \n",
      "5   1.6210812648758952%   0.022645358721523304%  49655.248466   \n",
      "1   1.8011483253588516%    0.10622009569377985%  48100.854267   \n",
      "2    3.594909090909088%     0.3453333333333332%  54271.901818   \n",
      "3   2.7977514053716495%   0.019394128669581522%  56170.464510   \n",
      "4  0.07519729425028186%  0.0012401352874859078%  20720.538286   \n",
      "5   3.2474999999999983%   0.035833333333333335%  59125.270833   \n",
      "1    1.249175824175822%   0.046978021978021964%  46296.807763   \n",
      "2   1.0193693693693688%    0.04189189189189189%  51805.405405   \n",
      "3   1.4072825354012126%    0.04315576534052599%  47328.083617   \n",
      "4   3.6696958102161825%    0.06881576430074614%  55874.522601   \n",
      "5    2.196068376068376%     0.8259829059829059%  63488.917808   \n",
      "1   1.2387978142076501%    0.03060109289617486%  55602.967213   \n",
      "2    5.455242150079845%    0.06471527408195847%  72866.013412   \n",
      "3    7.022006920415224%      0.609896193771627%  64493.767684   \n",
      "4   0.6824380165289253%    0.02644628099173554%  41437.111570   \n",
      "5    2.404238505747124%   0.020833333333333332%  53898.889209   \n",
      "\n",
      "             GenderPop         GenderPop_split       Men       Women  \n",
      "0    2341093M_2489527F    [2341093M, 2489527F]   2341093   2489527.0  \n",
      "1      384160M_349215F      [384160M, 349215F]    384160    349215.0  \n",
      "2    3299088M_3342840F    [3299088M, 3342840F]   3299088   3342840.0  \n",
      "3    1451913M_1506295F    [1451913M, 1506295F]   1451913   1506295.0  \n",
      "4  19087135M_19334329F  [19087135M, 19334329F]  19087135  19334329.0  \n",
      "5    2648667M_2630239F    [2648667M, 2630239F]   2648667   2630239.0  \n",
      "1    1751607M_1841615F    [1751607M, 1841615F]   1751607   1841615.0  \n",
      "2      448413M_478041F      [448413M, 478041F]    448413    478041.0  \n",
      "3      306674M_340810F      [306674M, 340810F]    306674    340810.0  \n",
      "4   9600009M_10045763F   [9600009M, 10045763F]   9600009  10045763.0  \n",
      "5    4883331M_5123362F    [4883331M, 5123362F]   4883331   5123362.0  \n",
      "1      709871M_696428F      [709871M, 696428F]    709871    696428.0  \n",
      "2      810464M_806083F      [810464M, 806083F]    810464    806083.0  \n",
      "3    6316899M_6556862F    [6316899M, 6556862F]   6316899   6556862.0  \n",
      "4    3235263M_3333382F    [3235263M, 3333382F]   3235263   3333382.0  \n",
      "5    1534595M_1558931F    [1534595M, 1558931F]   1534595   1558931.0  \n",
      "1    1439862M_1453125F    [1439862M, 1453125F]   1439862   1453125.0  \n",
      "2    2164208M_2233145F    [2164208M, 2233145F]   2164208   2233145.0  \n",
      "3    2261156M_2364097F    [2261156M, 2364097F]   2261156   2364097.0  \n",
      "4      650081M_679019F      [650081M, 679019F]    650081    679019.0  \n",
      "5           2872643M_F           [2872643M, F]   2872643   3057895.0  \n",
      "1    3249650M_3455936F    [3249650M, 3455936F]   3249650   3455936.0  \n",
      "2    4861973M_5038598F    [4861973M, 5038598F]   4861973   5038598.0  \n",
      "3    2692166M_2727005F    [2692166M, 2727005F]   2692166   2727005.0  \n",
      "4    1451723M_1536358F    [1451723M, 1536358F]   1451723   1536358.0  \n",
      "5    2964003M_3081445F    [2964003M, 3081445F]   2964003   3081445.0  \n",
      "1            510163M_F            [510163M, F]    510163    504536.0  \n",
      "2      929606M_939759F      [929606M, 939759F]    929606    939759.0  \n",
      "3    1407735M_1390901F    [1407735M, 1390901F]   1407735   1390901.0  \n",
      "4      653484M_670717F      [653484M, 670717F]    653484    670717.0  \n",
      "5    4343027M_4561386F    [4343027M, 4561386F]   4343027   4561386.0  \n",
      "1    1032414M_1051703F    [1032414M, 1051703F]   1032414   1051703.0  \n",
      "2   9541801M_10131373F   [9541801M, 10131373F]   9541801  10131373.0  \n",
      "3    4795408M_5049925F    [4795408M, 5049925F]   4795408   5049925.0  \n",
      "4      367963M_353677F      [367963M, 353677F]    367963    353677.0  \n",
      "5    5662893M_5913084F    [5662893M, 5913084F]   5662893   5913084.0  \n",
      "1    1906944M_1942789F    [1906944M, 1942789F]   1906944   1942789.0  \n",
      "2    1948453M_1990780F    [1948453M, 1990780F]   1948453   1990780.0  \n",
      "3    6245344M_6534215F    [6245344M, 6534215F]   6245344   6534215.0  \n",
      "4    1713860M_1869213F    [1713860M, 1869213F]   1713860   1869213.0  \n",
      "5      510388M_543273F      [510388M, 543273F]    510388    543273.0  \n",
      "1    2322409M_2455167F    [2322409M, 2455167F]   2322409   2455167.0  \n",
      "2      423477M_419713F      [423477M, 419713F]    423477    419713.0  \n",
      "3    3167756M_3331859F    [3167756M, 3331859F]   3167756   3331859.0  \n",
      "4  13171316M_13367298F  [13171316M, 13367298F]  13171316  13367298.0  \n",
      "5    1459229M_1444150F    [1459229M, 1444150F]   1459229   1444150.0  \n",
      "1      308573M_318031F      [308573M, 318031F]    308573    318031.0  \n",
      "2    4060948M_4195682F    [4060948M, 4195682F]   4060948   4195682.0  \n",
      "3    3487725M_3497739F    [3487725M, 3497739F]   3487725   3497739.0  \n",
      "4      913631M_937789F      [913631M, 937789F]    913631    937789.0  \n",
      "5    2851385M_2890732F    [2851385M, 2890732F]   2851385   2890732.0  \n"
     ]
    }
   ],
   "source": [
    "us_census = us_census.drop_duplicates(subset = [\"State\", \"TotalPop\"])\n",
    "print(us_census)"
   ]
  },
  {
   "cell_type": "markdown",
   "metadata": {},
   "source": [
    "<br/><br/>\n",
    "<b>12.</b> Make the scatterplot again. Now, it should be perfect! Your job is secure, for now.\n"
   ]
  },
  {
   "cell_type": "code",
   "execution_count": 124,
   "metadata": {},
   "outputs": [
    {
     "data": {
      "image/png": "[encoded data removed]",
      "text/plain": [
       "<Figure size 432x288 with 1 Axes>"
      ]
     },
     "metadata": {
      "needs_background": "light"
     },
     "output_type": "display_data"
    }
   ],
   "source": [
    "plt.scatter(us_census.Women,us_census.Income)\n",
    "plt.show()"
   ]
  },
  {
   "cell_type": "markdown",
   "metadata": {},
   "source": [
    "<br/><br/>\n",
    "<b>13.</b> Now, your boss wants you to make a bunch of histograms out of the race data that you have. Look at the .columns again to see what the race categories are.\n",
    "\n",
    "\n",
    "<b>14.</b> Try to make a histogram for each one!\n",
    "\n",
    "You will have to get the columns into numerical format, and those percentage signs will have to go.\n",
    "\n",
    "Don’t forget to fill the nan values with something that makes sense! You probably dropped the duplicate rows when making your last graph, but it couldn’t hurt to check for duplicates again.\n",
    "\n",
    "<b>Get Creative</b>\n",
    "\n",
    "<b>15.</b> Phew. You’ve definitely impressed your boss on your first day of work.\n",
    "\n",
    "But is there a way you really convey the power of pandas and Python over the drudgery of csv and Excel?\n",
    "\n",
    "Try to make some more interesting graphs to show your boss, and the world! You may need to clean the data even more to do it, or the cleaning you have already done may give you the ease of manipulation you’ve been searching for.\n"
   ]
  }
 ],
 "metadata": {
  "kernelspec": {
   "display_name": "Python 3",
   "language": "python",
   "name": "python3"
  },
  "language_info": {
   "codemirror_mode": {
    "name": "ipython",
    "version": 3
   },
   "file_extension": ".py",
   "mimetype": "text/x-python",
   "name": "python",
   "nbconvert_exporter": "python",
   "pygments_lexer": "ipython3",
   "version": "3.8.5"
  }
 },
 "nbformat": 4,
 "nbformat_minor": 4
}
